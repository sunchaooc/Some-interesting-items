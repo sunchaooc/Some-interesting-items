{
 "cells": [
  {
   "cell_type": "code",
   "execution_count": 1,
   "metadata": {},
   "outputs": [],
   "source": [
    "import numpy as np"
   ]
  },
  {
   "cell_type": "code",
   "execution_count": 6,
   "metadata": {},
   "outputs": [],
   "source": [
    "timesteps = 5   #输入序列的时间步长（序列的总长度）\n",
    "input_features = 32   #输入特征空间的维度\n",
    "output_features = 64   #输出特征空间的维度"
   ]
  },
  {
   "cell_type": "code",
   "execution_count": 17,
   "metadata": {
    "scrolled": true
   },
   "outputs": [
    {
     "name": "stdout",
     "output_type": "stream",
     "text": [
      "(5, 32)\n",
      "[[0.50389568 0.86063346 0.52810944 0.48504607 0.62313519 0.57541587\n",
      "  0.19853814 0.65857989 0.40017656 0.65938047 0.36378025 0.8097931\n",
      "  0.47322069 0.12854509 0.72678341 0.90422736 0.71891895 0.59680038\n",
      "  0.98160017 0.80453641 0.70763634 0.06537831 0.44272635 0.53803253\n",
      "  0.26854732 0.19758189 0.5773857  0.83450034 0.65979807 0.9468792\n",
      "  0.14358314 0.01582108]\n",
      " [0.71563039 0.4589373  0.53244409 0.75691106 0.97146616 0.15138243\n",
      "  0.16636471 0.76803693 0.9785828  0.7342696  0.40656999 0.36206378\n",
      "  0.89950586 0.75595614 0.43049707 0.6631975  0.2532228  0.63925119\n",
      "  0.91642156 0.19804283 0.35054028 0.81040562 0.86091472 0.22615212\n",
      "  0.84442783 0.04380309 0.19972018 0.40990432 0.58908519 0.12897925\n",
      "  0.30002916 0.97141027]\n",
      " [0.11680197 0.06048166 0.03918618 0.90773632 0.39289258 0.35499221\n",
      "  0.12635741 0.13936824 0.85235199 0.67990306 0.03740799 0.9804485\n",
      "  0.55256456 0.3570505  0.5558602  0.36420788 0.42730803 0.13847487\n",
      "  0.64930375 0.47355904 0.06153358 0.65012785 0.48592939 0.77130847\n",
      "  0.10512134 0.44073647 0.8468389  0.8323431  0.80796747 0.65946528\n",
      "  0.63890667 0.99973149]\n",
      " [0.17996942 0.47864473 0.61501442 0.91518818 0.89797174 0.31293253\n",
      "  0.02253059 0.53278319 0.95557626 0.77453662 0.91965158 0.82207093\n",
      "  0.34262567 0.18740381 0.36728584 0.87228259 0.58926836 0.35521278\n",
      "  0.21952361 0.94625289 0.63979686 0.14195621 0.09799693 0.35754312\n",
      "  0.62982869 0.65879677 0.40292178 0.33194276 0.4249089  0.29017204\n",
      "  0.77188665 0.47021689]\n",
      " [0.60441051 0.00102449 0.59051662 0.90709489 0.17579726 0.62799851\n",
      "  0.24272136 0.64283855 0.73742238 0.07485457 0.88349124 0.14690163\n",
      "  0.07755082 0.05835561 0.50484059 0.58056203 0.88368087 0.75465099\n",
      "  0.11843037 0.49812636 0.79356724 0.26796603 0.59371145 0.92481496\n",
      "  0.54908162 0.77609625 0.11877456 0.64850891 0.37305619 0.25138183\n",
      "  0.59928128 0.07445521]]\n"
     ]
    }
   ],
   "source": [
    "inputs = np.random.random((timesteps , input_features))  #输入数据：随机噪声，仅作为示例\n",
    "print(inputs.shape)\n",
    "print(inputs)"
   ]
  },
  {
   "cell_type": "code",
   "execution_count": 18,
   "metadata": {},
   "outputs": [
    {
     "name": "stdout",
     "output_type": "stream",
     "text": [
      "(64,)\n"
     ]
    }
   ],
   "source": [
    "state_t = np.zeros((output_features,))  #初始状态：全零向量\n",
    "print(state_t.shape)"
   ]
  },
  {
   "cell_type": "code",
   "execution_count": 19,
   "metadata": {},
   "outputs": [],
   "source": [
    "W = np.random.random((output_features, input_features))  #创建随机的权重矩阵\n",
    "U = np.random.random((output_features, output_features))\n",
    "b = np.random.random((output_features,))"
   ]
  },
  {
   "cell_type": "code",
   "execution_count": 30,
   "metadata": {},
   "outputs": [
    {
     "name": "stdout",
     "output_type": "stream",
     "text": [
      "(64, 32)\n",
      "(32,)\n"
     ]
    }
   ],
   "source": [
    "successive_outputs =[]\n",
    "for input_t in inputs:  #input_t是形状是（input_features,）的向量\n",
    "    output_t = np.tanh(np.dot(W, input_t) + np.dot(U, state_t) + b)  #由输入和当前状态（前一个输出）计算得到当前输出\n",
    "    successive_outputs.append(output_t)  # 将这个输出保存到一个列表中 这是个list 不是tensor\n",
    "    state_t = output_t  #更新网络的状态，用于下一个时间步\n",
    "print(W.shape)\n",
    "print(input_t.shape)\n"
   ]
  },
  {
   "cell_type": "code",
   "execution_count": 31,
   "metadata": {},
   "outputs": [
    {
     "name": "stdout",
     "output_type": "stream",
     "text": [
      "(5, 64)\n"
     ]
    }
   ],
   "source": [
    "final_output_sequence = np.stack(successive_outputs, axis = 0)\n",
    "print(final_output_sequence.shape)"
   ]
  },
  {
   "cell_type": "code",
   "execution_count": 33,
   "metadata": {},
   "outputs": [
    {
     "name": "stdout",
     "output_type": "stream",
     "text": [
      "[0.60441051 0.00102449 0.59051662 0.90709489 0.17579726 0.62799851\n",
      " 0.24272136 0.64283855 0.73742238 0.07485457 0.88349124 0.14690163\n",
      " 0.07755082 0.05835561 0.50484059 0.58056203 0.88368087 0.75465099\n",
      " 0.11843037 0.49812636 0.79356724 0.26796603 0.59371145 0.92481496\n",
      " 0.54908162 0.77609625 0.11877456 0.64850891 0.37305619 0.25138183\n",
      " 0.59928128 0.07445521]\n",
      "(32,)\n"
     ]
    }
   ],
   "source": [
    "print(input_t)\n",
    "print(input_t.shape)"
   ]
  },
  {
   "cell_type": "code",
   "execution_count": 35,
   "metadata": {},
   "outputs": [
    {
     "name": "stdout",
     "output_type": "stream",
     "text": [
      "C:\\Users\\dell\\Documents\n"
     ]
    }
   ],
   "source": [
    "import os\n",
    "print(os.path.abspath('.'))"
   ]
  },
  {
   "cell_type": "code",
   "execution_count": null,
   "metadata": {},
   "outputs": [],
   "source": []
  }
 ],
 "metadata": {
  "kernelspec": {
   "display_name": "Python 3",
   "language": "python",
   "name": "python3"
  },
  "language_info": {
   "codemirror_mode": {
    "name": "ipython",
    "version": 3
   },
   "file_extension": ".py",
   "mimetype": "text/x-python",
   "name": "python",
   "nbconvert_exporter": "python",
   "pygments_lexer": "ipython3",
   "version": "3.7.4"
  }
 },
 "nbformat": 4,
 "nbformat_minor": 2
}
